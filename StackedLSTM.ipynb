{
  "nbformat": 4,
  "nbformat_minor": 0,
  "metadata": {
    "colab": {
      "provenance": []
    },
    "kernelspec": {
      "name": "python3",
      "display_name": "Python 3"
    },
    "language_info": {
      "name": "python"
    }
  },
  "cells": [
    {
      "cell_type": "code",
      "execution_count": null,
      "metadata": {
        "id": "Tvgi7oIhD3ru"
      },
      "outputs": [],
      "source": [
        "import pandas as pd\n",
        "import numpy as np\n",
        "import matplotlib.pyplot as plt"
      ]
    },
    {
      "cell_type": "markdown",
      "source": [
        "Reading the dataset from the URL"
      ],
      "metadata": {
        "id": "XvAwQ_7AuFkj"
      }
    },
    {
      "cell_type": "code",
      "source": [
        "url = \"https://raw.githubusercontent.com/mwitiderrick/stockprice/master/NSE-TATAGLOBAL.csv\"\n",
        "df = pd.read_csv(url)"
      ],
      "metadata": {
        "id": "TGTWWnmfEDry"
      },
      "execution_count": null,
      "outputs": []
    },
    {
      "cell_type": "markdown",
      "source": [
        "# 1) EDA"
      ],
      "metadata": {
        "id": "sprpz5koExBu"
      }
    },
    {
      "cell_type": "code",
      "source": [
        "df"
      ],
      "metadata": {
        "colab": {
          "base_uri": "https://localhost:8080/",
          "height": 423
        },
        "id": "Wotd-24iEId4",
        "outputId": "f1764d42-a02c-497f-ff1f-68992d15284c"
      },
      "execution_count": null,
      "outputs": [
        {
          "output_type": "execute_result",
          "data": {
            "text/plain": [
              "            Date    Open    High     Low    Last   Close  \\\n",
              "0     2018-09-28  234.05  235.95  230.20  233.50  233.75   \n",
              "1     2018-09-27  234.55  236.80  231.10  233.80  233.25   \n",
              "2     2018-09-26  240.00  240.00  232.50  235.00  234.25   \n",
              "3     2018-09-25  233.30  236.75  232.00  236.25  236.10   \n",
              "4     2018-09-24  233.55  239.20  230.75  234.00  233.30   \n",
              "...          ...     ...     ...     ...     ...     ...   \n",
              "2030  2010-07-27  117.60  119.50  112.00  118.80  118.65   \n",
              "2031  2010-07-26  120.10  121.00  117.10  117.10  117.60   \n",
              "2032  2010-07-23  121.80  121.95  120.25  120.35  120.65   \n",
              "2033  2010-07-22  120.30  122.00  120.25  120.75  120.90   \n",
              "2034  2010-07-21  122.10  123.00  121.05  121.10  121.55   \n",
              "\n",
              "      Total Trade Quantity  Turnover (Lacs)  \n",
              "0                  3069914          7162.35  \n",
              "1                  5082859         11859.95  \n",
              "2                  2240909          5248.60  \n",
              "3                  2349368          5503.90  \n",
              "4                  3423509          7999.55  \n",
              "...                    ...              ...  \n",
              "2030                586100           694.98  \n",
              "2031                658440           780.01  \n",
              "2032                281312           340.31  \n",
              "2033                293312           355.17  \n",
              "2034                658666           803.56  \n",
              "\n",
              "[2035 rows x 8 columns]"
            ],
            "text/html": [
              "\n",
              "  <div id=\"df-da88ca97-beb9-4299-88c2-07c3273696ce\">\n",
              "    <div class=\"colab-df-container\">\n",
              "      <div>\n",
              "<style scoped>\n",
              "    .dataframe tbody tr th:only-of-type {\n",
              "        vertical-align: middle;\n",
              "    }\n",
              "\n",
              "    .dataframe tbody tr th {\n",
              "        vertical-align: top;\n",
              "    }\n",
              "\n",
              "    .dataframe thead th {\n",
              "        text-align: right;\n",
              "    }\n",
              "</style>\n",
              "<table border=\"1\" class=\"dataframe\">\n",
              "  <thead>\n",
              "    <tr style=\"text-align: right;\">\n",
              "      <th></th>\n",
              "      <th>Date</th>\n",
              "      <th>Open</th>\n",
              "      <th>High</th>\n",
              "      <th>Low</th>\n",
              "      <th>Last</th>\n",
              "      <th>Close</th>\n",
              "      <th>Total Trade Quantity</th>\n",
              "      <th>Turnover (Lacs)</th>\n",
              "    </tr>\n",
              "  </thead>\n",
              "  <tbody>\n",
              "    <tr>\n",
              "      <th>0</th>\n",
              "      <td>2018-09-28</td>\n",
              "      <td>234.05</td>\n",
              "      <td>235.95</td>\n",
              "      <td>230.20</td>\n",
              "      <td>233.50</td>\n",
              "      <td>233.75</td>\n",
              "      <td>3069914</td>\n",
              "      <td>7162.35</td>\n",
              "    </tr>\n",
              "    <tr>\n",
              "      <th>1</th>\n",
              "      <td>2018-09-27</td>\n",
              "      <td>234.55</td>\n",
              "      <td>236.80</td>\n",
              "      <td>231.10</td>\n",
              "      <td>233.80</td>\n",
              "      <td>233.25</td>\n",
              "      <td>5082859</td>\n",
              "      <td>11859.95</td>\n",
              "    </tr>\n",
              "    <tr>\n",
              "      <th>2</th>\n",
              "      <td>2018-09-26</td>\n",
              "      <td>240.00</td>\n",
              "      <td>240.00</td>\n",
              "      <td>232.50</td>\n",
              "      <td>235.00</td>\n",
              "      <td>234.25</td>\n",
              "      <td>2240909</td>\n",
              "      <td>5248.60</td>\n",
              "    </tr>\n",
              "    <tr>\n",
              "      <th>3</th>\n",
              "      <td>2018-09-25</td>\n",
              "      <td>233.30</td>\n",
              "      <td>236.75</td>\n",
              "      <td>232.00</td>\n",
              "      <td>236.25</td>\n",
              "      <td>236.10</td>\n",
              "      <td>2349368</td>\n",
              "      <td>5503.90</td>\n",
              "    </tr>\n",
              "    <tr>\n",
              "      <th>4</th>\n",
              "      <td>2018-09-24</td>\n",
              "      <td>233.55</td>\n",
              "      <td>239.20</td>\n",
              "      <td>230.75</td>\n",
              "      <td>234.00</td>\n",
              "      <td>233.30</td>\n",
              "      <td>3423509</td>\n",
              "      <td>7999.55</td>\n",
              "    </tr>\n",
              "    <tr>\n",
              "      <th>...</th>\n",
              "      <td>...</td>\n",
              "      <td>...</td>\n",
              "      <td>...</td>\n",
              "      <td>...</td>\n",
              "      <td>...</td>\n",
              "      <td>...</td>\n",
              "      <td>...</td>\n",
              "      <td>...</td>\n",
              "    </tr>\n",
              "    <tr>\n",
              "      <th>2030</th>\n",
              "      <td>2010-07-27</td>\n",
              "      <td>117.60</td>\n",
              "      <td>119.50</td>\n",
              "      <td>112.00</td>\n",
              "      <td>118.80</td>\n",
              "      <td>118.65</td>\n",
              "      <td>586100</td>\n",
              "      <td>694.98</td>\n",
              "    </tr>\n",
              "    <tr>\n",
              "      <th>2031</th>\n",
              "      <td>2010-07-26</td>\n",
              "      <td>120.10</td>\n",
              "      <td>121.00</td>\n",
              "      <td>117.10</td>\n",
              "      <td>117.10</td>\n",
              "      <td>117.60</td>\n",
              "      <td>658440</td>\n",
              "      <td>780.01</td>\n",
              "    </tr>\n",
              "    <tr>\n",
              "      <th>2032</th>\n",
              "      <td>2010-07-23</td>\n",
              "      <td>121.80</td>\n",
              "      <td>121.95</td>\n",
              "      <td>120.25</td>\n",
              "      <td>120.35</td>\n",
              "      <td>120.65</td>\n",
              "      <td>281312</td>\n",
              "      <td>340.31</td>\n",
              "    </tr>\n",
              "    <tr>\n",
              "      <th>2033</th>\n",
              "      <td>2010-07-22</td>\n",
              "      <td>120.30</td>\n",
              "      <td>122.00</td>\n",
              "      <td>120.25</td>\n",
              "      <td>120.75</td>\n",
              "      <td>120.90</td>\n",
              "      <td>293312</td>\n",
              "      <td>355.17</td>\n",
              "    </tr>\n",
              "    <tr>\n",
              "      <th>2034</th>\n",
              "      <td>2010-07-21</td>\n",
              "      <td>122.10</td>\n",
              "      <td>123.00</td>\n",
              "      <td>121.05</td>\n",
              "      <td>121.10</td>\n",
              "      <td>121.55</td>\n",
              "      <td>658666</td>\n",
              "      <td>803.56</td>\n",
              "    </tr>\n",
              "  </tbody>\n",
              "</table>\n",
              "<p>2035 rows × 8 columns</p>\n",
              "</div>\n",
              "      <button class=\"colab-df-convert\" onclick=\"convertToInteractive('df-da88ca97-beb9-4299-88c2-07c3273696ce')\"\n",
              "              title=\"Convert this dataframe to an interactive table.\"\n",
              "              style=\"display:none;\">\n",
              "        \n",
              "  <svg xmlns=\"http://www.w3.org/2000/svg\" height=\"24px\"viewBox=\"0 0 24 24\"\n",
              "       width=\"24px\">\n",
              "    <path d=\"M0 0h24v24H0V0z\" fill=\"none\"/>\n",
              "    <path d=\"M18.56 5.44l.94 2.06.94-2.06 2.06-.94-2.06-.94-.94-2.06-.94 2.06-2.06.94zm-11 1L8.5 8.5l.94-2.06 2.06-.94-2.06-.94L8.5 2.5l-.94 2.06-2.06.94zm10 10l.94 2.06.94-2.06 2.06-.94-2.06-.94-.94-2.06-.94 2.06-2.06.94z\"/><path d=\"M17.41 7.96l-1.37-1.37c-.4-.4-.92-.59-1.43-.59-.52 0-1.04.2-1.43.59L10.3 9.45l-7.72 7.72c-.78.78-.78 2.05 0 2.83L4 21.41c.39.39.9.59 1.41.59.51 0 1.02-.2 1.41-.59l7.78-7.78 2.81-2.81c.8-.78.8-2.07 0-2.86zM5.41 20L4 18.59l7.72-7.72 1.47 1.35L5.41 20z\"/>\n",
              "  </svg>\n",
              "      </button>\n",
              "      \n",
              "  <style>\n",
              "    .colab-df-container {\n",
              "      display:flex;\n",
              "      flex-wrap:wrap;\n",
              "      gap: 12px;\n",
              "    }\n",
              "\n",
              "    .colab-df-convert {\n",
              "      background-color: #E8F0FE;\n",
              "      border: none;\n",
              "      border-radius: 50%;\n",
              "      cursor: pointer;\n",
              "      display: none;\n",
              "      fill: #1967D2;\n",
              "      height: 32px;\n",
              "      padding: 0 0 0 0;\n",
              "      width: 32px;\n",
              "    }\n",
              "\n",
              "    .colab-df-convert:hover {\n",
              "      background-color: #E2EBFA;\n",
              "      box-shadow: 0px 1px 2px rgba(60, 64, 67, 0.3), 0px 1px 3px 1px rgba(60, 64, 67, 0.15);\n",
              "      fill: #174EA6;\n",
              "    }\n",
              "\n",
              "    [theme=dark] .colab-df-convert {\n",
              "      background-color: #3B4455;\n",
              "      fill: #D2E3FC;\n",
              "    }\n",
              "\n",
              "    [theme=dark] .colab-df-convert:hover {\n",
              "      background-color: #434B5C;\n",
              "      box-shadow: 0px 1px 3px 1px rgba(0, 0, 0, 0.15);\n",
              "      filter: drop-shadow(0px 1px 2px rgba(0, 0, 0, 0.3));\n",
              "      fill: #FFFFFF;\n",
              "    }\n",
              "  </style>\n",
              "\n",
              "      <script>\n",
              "        const buttonEl =\n",
              "          document.querySelector('#df-da88ca97-beb9-4299-88c2-07c3273696ce button.colab-df-convert');\n",
              "        buttonEl.style.display =\n",
              "          google.colab.kernel.accessAllowed ? 'block' : 'none';\n",
              "\n",
              "        async function convertToInteractive(key) {\n",
              "          const element = document.querySelector('#df-da88ca97-beb9-4299-88c2-07c3273696ce');\n",
              "          const dataTable =\n",
              "            await google.colab.kernel.invokeFunction('convertToInteractive',\n",
              "                                                     [key], {});\n",
              "          if (!dataTable) return;\n",
              "\n",
              "          const docLinkHtml = 'Like what you see? Visit the ' +\n",
              "            '<a target=\"_blank\" href=https://colab.research.google.com/notebooks/data_table.ipynb>data table notebook</a>'\n",
              "            + ' to learn more about interactive tables.';\n",
              "          element.innerHTML = '';\n",
              "          dataTable['output_type'] = 'display_data';\n",
              "          await google.colab.output.renderOutput(dataTable, element);\n",
              "          const docLink = document.createElement('div');\n",
              "          docLink.innerHTML = docLinkHtml;\n",
              "          element.appendChild(docLink);\n",
              "        }\n",
              "      </script>\n",
              "    </div>\n",
              "  </div>\n",
              "  "
            ]
          },
          "metadata": {},
          "execution_count": 126
        }
      ]
    },
    {
      "cell_type": "markdown",
      "source": [
        "Shape of dataset"
      ],
      "metadata": {
        "id": "Cur7iTKOuKKc"
      }
    },
    {
      "cell_type": "code",
      "source": [
        "df.shape"
      ],
      "metadata": {
        "colab": {
          "base_uri": "https://localhost:8080/"
        },
        "id": "UKrlz5FOGlLg",
        "outputId": "f1c8f105-6ae3-4306-d8e5-de704a0dc0ca"
      },
      "execution_count": null,
      "outputs": [
        {
          "output_type": "execute_result",
          "data": {
            "text/plain": [
              "(2035, 8)"
            ]
          },
          "metadata": {},
          "execution_count": 127
        }
      ]
    },
    {
      "cell_type": "markdown",
      "source": [
        "Checking if there are any NULL values"
      ],
      "metadata": {
        "id": "vq9W4qm8uMnm"
      }
    },
    {
      "cell_type": "code",
      "source": [
        "df.isnull().sum()"
      ],
      "metadata": {
        "colab": {
          "base_uri": "https://localhost:8080/"
        },
        "id": "cWL6Lu4CEKJ2",
        "outputId": "94a03bda-5da7-45ca-b197-dda9fea40b67"
      },
      "execution_count": null,
      "outputs": [
        {
          "output_type": "execute_result",
          "data": {
            "text/plain": [
              "Date                    0\n",
              "Open                    0\n",
              "High                    0\n",
              "Low                     0\n",
              "Last                    0\n",
              "Close                   0\n",
              "Total Trade Quantity    0\n",
              "Turnover (Lacs)         0\n",
              "dtype: int64"
            ]
          },
          "metadata": {},
          "execution_count": 128
        }
      ]
    },
    {
      "cell_type": "markdown",
      "source": [
        "Checking datatypes of features"
      ],
      "metadata": {
        "id": "FPWKG8QQuP-_"
      }
    },
    {
      "cell_type": "code",
      "source": [
        "df.dtypes"
      ],
      "metadata": {
        "colab": {
          "base_uri": "https://localhost:8080/"
        },
        "id": "ykhOtx4sFfE8",
        "outputId": "e172340d-0597-49ac-ed14-0c5e741ea4e3"
      },
      "execution_count": null,
      "outputs": [
        {
          "output_type": "execute_result",
          "data": {
            "text/plain": [
              "Date                     object\n",
              "Open                    float64\n",
              "High                    float64\n",
              "Low                     float64\n",
              "Last                    float64\n",
              "Close                   float64\n",
              "Total Trade Quantity      int64\n",
              "Turnover (Lacs)         float64\n",
              "dtype: object"
            ]
          },
          "metadata": {},
          "execution_count": 129
        }
      ]
    },
    {
      "cell_type": "markdown",
      "source": [
        "Dropping date from datset"
      ],
      "metadata": {
        "id": "s9Jt9b1euUFZ"
      }
    },
    {
      "cell_type": "code",
      "source": [
        "df.drop('Date',axis=1,inplace=True)"
      ],
      "metadata": {
        "id": "DEQyQLgfbRer"
      },
      "execution_count": null,
      "outputs": []
    },
    {
      "cell_type": "markdown",
      "source": [
        "Storing the output feature separately"
      ],
      "metadata": {
        "id": "tLLyAbUWuZBm"
      }
    },
    {
      "cell_type": "code",
      "source": [
        "close_output = df['Close']"
      ],
      "metadata": {
        "id": "XmnpbEecFvSO"
      },
      "execution_count": null,
      "outputs": []
    },
    {
      "cell_type": "code",
      "source": [
        "close_output"
      ],
      "metadata": {
        "colab": {
          "base_uri": "https://localhost:8080/"
        },
        "id": "AkY2sz_ZF9YU",
        "outputId": "0b1ba125-d717-4074-d9c4-d79ae57d63e6"
      },
      "execution_count": null,
      "outputs": [
        {
          "output_type": "execute_result",
          "data": {
            "text/plain": [
              "0       233.75\n",
              "1       233.25\n",
              "2       234.25\n",
              "3       236.10\n",
              "4       233.30\n",
              "         ...  \n",
              "2030    118.65\n",
              "2031    117.60\n",
              "2032    120.65\n",
              "2033    120.90\n",
              "2034    121.55\n",
              "Name: Close, Length: 2035, dtype: float64"
            ]
          },
          "metadata": {},
          "execution_count": 132
        }
      ]
    },
    {
      "cell_type": "markdown",
      "source": [
        "# 2) Visualization"
      ],
      "metadata": {
        "id": "CNae09L5GGX9"
      }
    },
    {
      "cell_type": "markdown",
      "source": [
        "Plotting the stock price"
      ],
      "metadata": {
        "id": "XlZhttzAulAs"
      }
    },
    {
      "cell_type": "code",
      "source": [
        "plt.plot(close_output)"
      ],
      "metadata": {
        "colab": {
          "base_uri": "https://localhost:8080/",
          "height": 448
        },
        "id": "dfqAI-UqGFek",
        "outputId": "4cc43051-2164-47fb-cf3e-701077a81889"
      },
      "execution_count": null,
      "outputs": [
        {
          "output_type": "execute_result",
          "data": {
            "text/plain": [
              "[<matplotlib.lines.Line2D at 0x7fbe1374d0d0>]"
            ]
          },
          "metadata": {},
          "execution_count": 133
        },
        {
          "output_type": "display_data",
          "data": {
            "text/plain": [
              "<Figure size 640x480 with 1 Axes>"
            ],
            "image/png": "[encoded data removed]"
          },
          "metadata": {}
        }
      ]
    },
    {
      "cell_type": "markdown",
      "source": [
        "Splitting all the independent features"
      ],
      "metadata": {
        "id": "rjN-_31Iuwtz"
      }
    },
    {
      "cell_type": "code",
      "source": [
        "cols = df.columns\n",
        "cols = cols.drop('Close')"
      ],
      "metadata": {
        "id": "ZWXgJ7bsEu2q"
      },
      "execution_count": null,
      "outputs": []
    },
    {
      "cell_type": "code",
      "source": [
        "cols"
      ],
      "metadata": {
        "colab": {
          "base_uri": "https://localhost:8080/"
        },
        "id": "z1GNLMDNE9XL",
        "outputId": "6816e46e-e59b-4262-9fe5-cb4970672625"
      },
      "execution_count": null,
      "outputs": [
        {
          "output_type": "execute_result",
          "data": {
            "text/plain": [
              "Index(['Open', 'High', 'Low', 'Last', 'Total Trade Quantity',\n",
              "       'Turnover (Lacs)'],\n",
              "      dtype='object')"
            ]
          },
          "metadata": {},
          "execution_count": 135
        }
      ]
    },
    {
      "cell_type": "markdown",
      "source": [
        "Plotting each independent feature with output feature"
      ],
      "metadata": {
        "id": "ydik4dDauu9F"
      }
    },
    {
      "cell_type": "code",
      "source": [
        "plt.figure(figsize=(13,6))\n",
        "m = 1\n",
        "for i in cols:\n",
        "  plt.subplot(2,3,m)\n",
        "  plt.plot(df[i],close_output)\n",
        "  plt.xlabel(i)\n",
        "  plt.ylabel('Close')\n",
        "  m+=1"
      ],
      "metadata": {
        "colab": {
          "base_uri": "https://localhost:8080/",
          "height": 542
        },
        "id": "MEXm-xuUFRYc",
        "outputId": "d752fcff-8700-487c-cff8-dd62f7730e8f"
      },
      "execution_count": null,
      "outputs": [
        {
          "output_type": "display_data",
          "data": {
            "text/plain": [
              "<Figure size 1300x600 with 6 Axes>"
            ],
            "image/png": "[encoded data removed]"
          },
          "metadata": {}
        }
      ]
    },
    {
      "cell_type": "markdown",
      "source": [
        "scaling the output feature using MinMax Scaler"
      ],
      "metadata": {
        "id": "Zb8KUfqXu4KH"
      }
    },
    {
      "cell_type": "code",
      "source": [
        "from sklearn.preprocessing import MinMaxScaler\n",
        "scaler=MinMaxScaler(feature_range=(0,1))\n",
        "df_close=scaler.fit_transform(np.array(close_output).reshape(-1,1))\n",
        "df_close"
      ],
      "metadata": {
        "colab": {
          "base_uri": "https://localhost:8080/"
        },
        "id": "Q1Ov_UMzGy6G",
        "outputId": "bc806bb3-68b1-4138-dea1-55c213ef395d"
      },
      "execution_count": null,
      "outputs": [
        {
          "output_type": "execute_result",
          "data": {
            "text/plain": [
              "array([[0.62418301],\n",
              "       [0.62214052],\n",
              "       [0.62622549],\n",
              "       ...,\n",
              "       [0.1621732 ],\n",
              "       [0.16319444],\n",
              "       [0.16584967]])"
            ]
          },
          "metadata": {},
          "execution_count": 137
        }
      ]
    },
    {
      "cell_type": "markdown",
      "source": [
        "Creating a copy of dataset with only independent features"
      ],
      "metadata": {
        "id": "Pyq1Q_y7u7r8"
      }
    },
    {
      "cell_type": "code",
      "source": [
        "X = df.copy()\n",
        "X.drop('Close',axis=1, inplace=True)\n",
        "X"
      ],
      "metadata": {
        "colab": {
          "base_uri": "https://localhost:8080/",
          "height": 423
        },
        "id": "YjN2Uk0HXMiO",
        "outputId": "931a3088-0b96-4039-8df3-8ad5c5c88511"
      },
      "execution_count": null,
      "outputs": [
        {
          "output_type": "execute_result",
          "data": {
            "text/plain": [
              "        Open    High     Low    Last  Total Trade Quantity  Turnover (Lacs)\n",
              "0     234.05  235.95  230.20  233.50               3069914          7162.35\n",
              "1     234.55  236.80  231.10  233.80               5082859         11859.95\n",
              "2     240.00  240.00  232.50  235.00               2240909          5248.60\n",
              "3     233.30  236.75  232.00  236.25               2349368          5503.90\n",
              "4     233.55  239.20  230.75  234.00               3423509          7999.55\n",
              "...      ...     ...     ...     ...                   ...              ...\n",
              "2030  117.60  119.50  112.00  118.80                586100           694.98\n",
              "2031  120.10  121.00  117.10  117.10                658440           780.01\n",
              "2032  121.80  121.95  120.25  120.35                281312           340.31\n",
              "2033  120.30  122.00  120.25  120.75                293312           355.17\n",
              "2034  122.10  123.00  121.05  121.10                658666           803.56\n",
              "\n",
              "[2035 rows x 6 columns]"
            ],
            "text/html": [
              "\n",
              "  <div id=\"df-831549f5-95c1-412d-894c-4f17fd9bddc0\">\n",
              "    <div class=\"colab-df-container\">\n",
              "      <div>\n",
              "<style scoped>\n",
              "    .dataframe tbody tr th:only-of-type {\n",
              "        vertical-align: middle;\n",
              "    }\n",
              "\n",
              "    .dataframe tbody tr th {\n",
              "        vertical-align: top;\n",
              "    }\n",
              "\n",
              "    .dataframe thead th {\n",
              "        text-align: right;\n",
              "    }\n",
              "</style>\n",
              "<table border=\"1\" class=\"dataframe\">\n",
              "  <thead>\n",
              "    <tr style=\"text-align: right;\">\n",
              "      <th></th>\n",
              "      <th>Open</th>\n",
              "      <th>High</th>\n",
              "      <th>Low</th>\n",
              "      <th>Last</th>\n",
              "      <th>Total Trade Quantity</th>\n",
              "      <th>Turnover (Lacs)</th>\n",
              "    </tr>\n",
              "  </thead>\n",
              "  <tbody>\n",
              "    <tr>\n",
              "      <th>0</th>\n",
              "      <td>234.05</td>\n",
              "      <td>235.95</td>\n",
              "      <td>230.20</td>\n",
              "      <td>233.50</td>\n",
              "      <td>3069914</td>\n",
              "      <td>7162.35</td>\n",
              "    </tr>\n",
              "    <tr>\n",
              "      <th>1</th>\n",
              "      <td>234.55</td>\n",
              "      <td>236.80</td>\n",
              "      <td>231.10</td>\n",
              "      <td>233.80</td>\n",
              "      <td>5082859</td>\n",
              "      <td>11859.95</td>\n",
              "    </tr>\n",
              "    <tr>\n",
              "      <th>2</th>\n",
              "      <td>240.00</td>\n",
              "      <td>240.00</td>\n",
              "      <td>232.50</td>\n",
              "      <td>235.00</td>\n",
              "      <td>2240909</td>\n",
              "      <td>5248.60</td>\n",
              "    </tr>\n",
              "    <tr>\n",
              "      <th>3</th>\n",
              "      <td>233.30</td>\n",
              "      <td>236.75</td>\n",
              "      <td>232.00</td>\n",
              "      <td>236.25</td>\n",
              "      <td>2349368</td>\n",
              "      <td>5503.90</td>\n",
              "    </tr>\n",
              "    <tr>\n",
              "      <th>4</th>\n",
              "      <td>233.55</td>\n",
              "      <td>239.20</td>\n",
              "      <td>230.75</td>\n",
              "      <td>234.00</td>\n",
              "      <td>3423509</td>\n",
              "      <td>7999.55</td>\n",
              "    </tr>\n",
              "    <tr>\n",
              "      <th>...</th>\n",
              "      <td>...</td>\n",
              "      <td>...</td>\n",
              "      <td>...</td>\n",
              "      <td>...</td>\n",
              "      <td>...</td>\n",
              "      <td>...</td>\n",
              "    </tr>\n",
              "    <tr>\n",
              "      <th>2030</th>\n",
              "      <td>117.60</td>\n",
              "      <td>119.50</td>\n",
              "      <td>112.00</td>\n",
              "      <td>118.80</td>\n",
              "      <td>586100</td>\n",
              "      <td>694.98</td>\n",
              "    </tr>\n",
              "    <tr>\n",
              "      <th>2031</th>\n",
              "      <td>120.10</td>\n",
              "      <td>121.00</td>\n",
              "      <td>117.10</td>\n",
              "      <td>117.10</td>\n",
              "      <td>658440</td>\n",
              "      <td>780.01</td>\n",
              "    </tr>\n",
              "    <tr>\n",
              "      <th>2032</th>\n",
              "      <td>121.80</td>\n",
              "      <td>121.95</td>\n",
              "      <td>120.25</td>\n",
              "      <td>120.35</td>\n",
              "      <td>281312</td>\n",
              "      <td>340.31</td>\n",
              "    </tr>\n",
              "    <tr>\n",
              "      <th>2033</th>\n",
              "      <td>120.30</td>\n",
              "      <td>122.00</td>\n",
              "      <td>120.25</td>\n",
              "      <td>120.75</td>\n",
              "      <td>293312</td>\n",
              "      <td>355.17</td>\n",
              "    </tr>\n",
              "    <tr>\n",
              "      <th>2034</th>\n",
              "      <td>122.10</td>\n",
              "      <td>123.00</td>\n",
              "      <td>121.05</td>\n",
              "      <td>121.10</td>\n",
              "      <td>658666</td>\n",
              "      <td>803.56</td>\n",
              "    </tr>\n",
              "  </tbody>\n",
              "</table>\n",
              "<p>2035 rows × 6 columns</p>\n",
              "</div>\n",
              "      <button class=\"colab-df-convert\" onclick=\"convertToInteractive('df-831549f5-95c1-412d-894c-4f17fd9bddc0')\"\n",
              "              title=\"Convert this dataframe to an interactive table.\"\n",
              "              style=\"display:none;\">\n",
              "        \n",
              "  <svg xmlns=\"http://www.w3.org/2000/svg\" height=\"24px\"viewBox=\"0 0 24 24\"\n",
              "       width=\"24px\">\n",
              "    <path d=\"M0 0h24v24H0V0z\" fill=\"none\"/>\n",
              "    <path d=\"M18.56 5.44l.94 2.06.94-2.06 2.06-.94-2.06-.94-.94-2.06-.94 2.06-2.06.94zm-11 1L8.5 8.5l.94-2.06 2.06-.94-2.06-.94L8.5 2.5l-.94 2.06-2.06.94zm10 10l.94 2.06.94-2.06 2.06-.94-2.06-.94-.94-2.06-.94 2.06-2.06.94z\"/><path d=\"M17.41 7.96l-1.37-1.37c-.4-.4-.92-.59-1.43-.59-.52 0-1.04.2-1.43.59L10.3 9.45l-7.72 7.72c-.78.78-.78 2.05 0 2.83L4 21.41c.39.39.9.59 1.41.59.51 0 1.02-.2 1.41-.59l7.78-7.78 2.81-2.81c.8-.78.8-2.07 0-2.86zM5.41 20L4 18.59l7.72-7.72 1.47 1.35L5.41 20z\"/>\n",
              "  </svg>\n",
              "      </button>\n",
              "      \n",
              "  <style>\n",
              "    .colab-df-container {\n",
              "      display:flex;\n",
              "      flex-wrap:wrap;\n",
              "      gap: 12px;\n",
              "    }\n",
              "\n",
              "    .colab-df-convert {\n",
              "      background-color: #E8F0FE;\n",
              "      border: none;\n",
              "      border-radius: 50%;\n",
              "      cursor: pointer;\n",
              "      display: none;\n",
              "      fill: #1967D2;\n",
              "      height: 32px;\n",
              "      padding: 0 0 0 0;\n",
              "      width: 32px;\n",
              "    }\n",
              "\n",
              "    .colab-df-convert:hover {\n",
              "      background-color: #E2EBFA;\n",
              "      box-shadow: 0px 1px 2px rgba(60, 64, 67, 0.3), 0px 1px 3px 1px rgba(60, 64, 67, 0.15);\n",
              "      fill: #174EA6;\n",
              "    }\n",
              "\n",
              "    [theme=dark] .colab-df-convert {\n",
              "      background-color: #3B4455;\n",
              "      fill: #D2E3FC;\n",
              "    }\n",
              "\n",
              "    [theme=dark] .colab-df-convert:hover {\n",
              "      background-color: #434B5C;\n",
              "      box-shadow: 0px 1px 3px 1px rgba(0, 0, 0, 0.15);\n",
              "      filter: drop-shadow(0px 1px 2px rgba(0, 0, 0, 0.3));\n",
              "      fill: #FFFFFF;\n",
              "    }\n",
              "  </style>\n",
              "\n",
              "      <script>\n",
              "        const buttonEl =\n",
              "          document.querySelector('#df-831549f5-95c1-412d-894c-4f17fd9bddc0 button.colab-df-convert');\n",
              "        buttonEl.style.display =\n",
              "          google.colab.kernel.accessAllowed ? 'block' : 'none';\n",
              "\n",
              "        async function convertToInteractive(key) {\n",
              "          const element = document.querySelector('#df-831549f5-95c1-412d-894c-4f17fd9bddc0');\n",
              "          const dataTable =\n",
              "            await google.colab.kernel.invokeFunction('convertToInteractive',\n",
              "                                                     [key], {});\n",
              "          if (!dataTable) return;\n",
              "\n",
              "          const docLinkHtml = 'Like what you see? Visit the ' +\n",
              "            '<a target=\"_blank\" href=https://colab.research.google.com/notebooks/data_table.ipynb>data table notebook</a>'\n",
              "            + ' to learn more about interactive tables.';\n",
              "          element.innerHTML = '';\n",
              "          dataTable['output_type'] = 'display_data';\n",
              "          await google.colab.output.renderOutput(dataTable, element);\n",
              "          const docLink = document.createElement('div');\n",
              "          docLink.innerHTML = docLinkHtml;\n",
              "          element.appendChild(docLink);\n",
              "        }\n",
              "      </script>\n",
              "    </div>\n",
              "  </div>\n",
              "  "
            ]
          },
          "metadata": {},
          "execution_count": 138
        }
      ]
    },
    {
      "cell_type": "code",
      "source": [
        "Y = df['Close']"
      ],
      "metadata": {
        "id": "x1j2gjxkXmur"
      },
      "execution_count": null,
      "outputs": []
    },
    {
      "cell_type": "markdown",
      "source": [
        "#3) Splitting the dataset into training and testing"
      ],
      "metadata": {
        "id": "EzQm1xSVu_4g"
      }
    },
    {
      "cell_type": "code",
      "source": [
        "training_size=int(len(df_close)*0.75)\n",
        "test_size=len(df_close)-training_size\n",
        "train_data,test_data=df_close[0:training_size,:],df_close[training_size:len(df_close),:1]"
      ],
      "metadata": {
        "id": "9myGwIQtd7uv"
      },
      "execution_count": null,
      "outputs": []
    },
    {
      "cell_type": "code",
      "source": [
        "def create_dataset(dataset, time_step=1):\n",
        "    dataX,dataY=[],[]\n",
        "    for i in range(len(dataset)-time_step-1):\n",
        "        a = dataset[i:(i+time_step), 0]\n",
        "        dataX.append(a)\n",
        "        dataY.append(dataset[i + time_step, 0])\n",
        "    return np.array(dataX), np.array(dataY)\n",
        "time_step = 100\n",
        "X_train, y_train = create_dataset(train_data, time_step)\n",
        "X_test, ytest = create_dataset(test_data, time_step)"
      ],
      "metadata": {
        "id": "lHuDyA33HqHr"
      },
      "execution_count": null,
      "outputs": []
    },
    {
      "cell_type": "code",
      "source": [
        "X_train.shape"
      ],
      "metadata": {
        "id": "QD2R4FlGHwdg",
        "colab": {
          "base_uri": "https://localhost:8080/"
        },
        "outputId": "237b698b-8a1b-415c-90ad-1bdef1cc4497"
      },
      "execution_count": null,
      "outputs": [
        {
          "output_type": "execute_result",
          "data": {
            "text/plain": [
              "(1425, 100)"
            ]
          },
          "metadata": {},
          "execution_count": 165
        }
      ]
    },
    {
      "cell_type": "code",
      "source": [
        "X_test.shape"
      ],
      "metadata": {
        "colab": {
          "base_uri": "https://localhost:8080/"
        },
        "id": "LWlDoa9CXsyK",
        "outputId": "444ba115-0869-400c-d4a7-6a3374607d12"
      },
      "execution_count": null,
      "outputs": [
        {
          "output_type": "execute_result",
          "data": {
            "text/plain": [
              "(408, 100)"
            ]
          },
          "metadata": {},
          "execution_count": 166
        }
      ]
    },
    {
      "cell_type": "code",
      "source": [
        "X_train =X_train.reshape(X_train.shape[0],X_train.shape[1] , 1)\n",
        "X_test = X_test.reshape(X_test.shape[0],X_test.shape[1] , 1)"
      ],
      "metadata": {
        "id": "AUFgD2Y1eG4B"
      },
      "execution_count": null,
      "outputs": []
    },
    {
      "cell_type": "markdown",
      "source": [
        "#4) Building the Model"
      ],
      "metadata": {
        "id": "No9EkjCUvHZH"
      }
    },
    {
      "cell_type": "code",
      "source": [
        "from tensorflow.keras.models import Sequential\n",
        "from tensorflow.keras.layers import Dense\n",
        "from tensorflow.keras.layers import LSTM"
      ],
      "metadata": {
        "id": "2REdXjzgXuSx"
      },
      "execution_count": null,
      "outputs": []
    },
    {
      "cell_type": "code",
      "source": [
        "model=Sequential()\n",
        "model.add(LSTM(50,return_sequences=True,input_shape=(100,1)))\n",
        "model.add(LSTM(50,return_sequences=True))\n",
        "model.add(LSTM(50))\n",
        "model.add(Dense(1))\n",
        "model.compile(loss='mean_squared_error',optimizer='adam')\n",
        "model.summary()"
      ],
      "metadata": {
        "colab": {
          "base_uri": "https://localhost:8080/"
        },
        "id": "gZ67fX75X5kE",
        "outputId": "66eb2734-8e04-47ee-f26a-e687fb68766b"
      },
      "execution_count": null,
      "outputs": [
        {
          "output_type": "stream",
          "name": "stdout",
          "text": [
            "Model: \"sequential_9\"\n",
            "_________________________________________________________________\n",
            " Layer (type)                Output Shape              Param #   \n",
            "=================================================================\n",
            " lstm_27 (LSTM)              (None, 100, 50)           10400     \n",
            "                                                                 \n",
            " lstm_28 (LSTM)              (None, 100, 50)           20200     \n",
            "                                                                 \n",
            " lstm_29 (LSTM)              (None, 50)                20200     \n",
            "                                                                 \n",
            " dense_9 (Dense)             (None, 1)                 51        \n",
            "                                                                 \n",
            "=================================================================\n",
            "Total params: 50,851\n",
            "Trainable params: 50,851\n",
            "Non-trainable params: 0\n",
            "_________________________________________________________________\n"
          ]
        }
      ]
    },
    {
      "cell_type": "code",
      "source": [
        "model.fit(X_train, y_train, validation_split=0.1, epochs= 60, batch_size=64, verbose = 1)"
      ],
      "metadata": {
        "colab": {
          "base_uri": "https://localhost:8080/"
        },
        "id": "Xo7vWZIgX9pO",
        "outputId": "9630d31b-ab99-42fc-b524-b63a2277bcf5"
      },
      "execution_count": null,
      "outputs": [
        {
          "output_type": "stream",
          "name": "stdout",
          "text": [
            "Epoch 1/60\n",
            "21/21 [==============================] - 12s 255ms/step - loss: 0.0308 - val_loss: 0.0024\n",
            "Epoch 2/60\n",
            "21/21 [==============================] - 4s 213ms/step - loss: 0.0040 - val_loss: 0.0013\n",
            "Epoch 3/60\n",
            "21/21 [==============================] - 5s 229ms/step - loss: 0.0017 - val_loss: 0.0012\n",
            "Epoch 4/60\n",
            "21/21 [==============================] - 4s 198ms/step - loss: 0.0015 - val_loss: 0.0012\n",
            "Epoch 5/60\n",
            "21/21 [==============================] - 5s 243ms/step - loss: 0.0017 - val_loss: 0.0015\n",
            "Epoch 6/60\n",
            "21/21 [==============================] - 4s 204ms/step - loss: 0.0014 - val_loss: 0.0012\n",
            "Epoch 7/60\n",
            "21/21 [==============================] - 4s 196ms/step - loss: 0.0013 - val_loss: 0.0011\n",
            "Epoch 8/60\n",
            "21/21 [==============================] - 5s 257ms/step - loss: 0.0016 - val_loss: 0.0014\n",
            "Epoch 9/60\n",
            "21/21 [==============================] - 4s 197ms/step - loss: 0.0014 - val_loss: 0.0010\n",
            "Epoch 10/60\n",
            "21/21 [==============================] - 4s 197ms/step - loss: 0.0012 - val_loss: 0.0010\n",
            "Epoch 11/60\n",
            "21/21 [==============================] - 5s 256ms/step - loss: 0.0012 - val_loss: 0.0012\n",
            "Epoch 12/60\n",
            "21/21 [==============================] - 4s 195ms/step - loss: 0.0014 - val_loss: 0.0010\n",
            "Epoch 13/60\n",
            "21/21 [==============================] - 4s 197ms/step - loss: 0.0010 - val_loss: 9.4236e-04\n",
            "Epoch 14/60\n",
            "21/21 [==============================] - 5s 258ms/step - loss: 9.9671e-04 - val_loss: 0.0010\n",
            "Epoch 15/60\n",
            "21/21 [==============================] - 4s 197ms/step - loss: 0.0011 - val_loss: 0.0011\n",
            "Epoch 16/60\n",
            "21/21 [==============================] - 4s 196ms/step - loss: 9.3763e-04 - val_loss: 9.8766e-04\n",
            "Epoch 17/60\n",
            "21/21 [==============================] - 5s 254ms/step - loss: 9.7331e-04 - val_loss: 8.9971e-04\n",
            "Epoch 18/60\n",
            "21/21 [==============================] - 4s 196ms/step - loss: 9.0074e-04 - val_loss: 0.0013\n",
            "Epoch 19/60\n",
            "21/21 [==============================] - 4s 212ms/step - loss: 0.0011 - val_loss: 9.8352e-04\n",
            "Epoch 20/60\n",
            "21/21 [==============================] - 5s 237ms/step - loss: 9.2334e-04 - val_loss: 0.0011\n",
            "Epoch 21/60\n",
            "21/21 [==============================] - 4s 197ms/step - loss: 8.5427e-04 - val_loss: 8.8992e-04\n",
            "Epoch 22/60\n",
            "21/21 [==============================] - 5s 244ms/step - loss: 7.9401e-04 - val_loss: 8.9583e-04\n",
            "Epoch 23/60\n",
            "21/21 [==============================] - 4s 203ms/step - loss: 8.0804e-04 - val_loss: 8.0739e-04\n",
            "Epoch 24/60\n",
            "21/21 [==============================] - 4s 199ms/step - loss: 7.1944e-04 - val_loss: 9.1393e-04\n",
            "Epoch 25/60\n",
            "21/21 [==============================] - 5s 257ms/step - loss: 7.5240e-04 - val_loss: 8.5383e-04\n",
            "Epoch 26/60\n",
            "21/21 [==============================] - 4s 197ms/step - loss: 6.8304e-04 - val_loss: 7.9294e-04\n",
            "Epoch 27/60\n",
            "21/21 [==============================] - 4s 197ms/step - loss: 7.4048e-04 - val_loss: 0.0013\n",
            "Epoch 28/60\n",
            "21/21 [==============================] - 5s 256ms/step - loss: 8.2421e-04 - val_loss: 7.8716e-04\n",
            "Epoch 29/60\n",
            "21/21 [==============================] - 4s 196ms/step - loss: 6.4294e-04 - val_loss: 7.4723e-04\n",
            "Epoch 30/60\n",
            "21/21 [==============================] - 4s 196ms/step - loss: 6.7177e-04 - val_loss: 8.2295e-04\n",
            "Epoch 31/60\n",
            "21/21 [==============================] - 5s 256ms/step - loss: 6.9366e-04 - val_loss: 7.3793e-04\n",
            "Epoch 32/60\n",
            "21/21 [==============================] - 4s 197ms/step - loss: 7.3659e-04 - val_loss: 7.8398e-04\n",
            "Epoch 33/60\n",
            "21/21 [==============================] - 4s 195ms/step - loss: 8.1473e-04 - val_loss: 8.9627e-04\n",
            "Epoch 34/60\n",
            "21/21 [==============================] - 5s 254ms/step - loss: 6.7006e-04 - val_loss: 7.2424e-04\n",
            "Epoch 35/60\n",
            "21/21 [==============================] - 4s 197ms/step - loss: 5.6925e-04 - val_loss: 6.7874e-04\n",
            "Epoch 36/60\n",
            "21/21 [==============================] - 5s 219ms/step - loss: 5.9473e-04 - val_loss: 6.6959e-04\n",
            "Epoch 37/60\n",
            "21/21 [==============================] - 5s 237ms/step - loss: 6.4921e-04 - val_loss: 6.9940e-04\n",
            "Epoch 38/60\n",
            "21/21 [==============================] - 4s 197ms/step - loss: 5.7223e-04 - val_loss: 6.7253e-04\n",
            "Epoch 39/60\n",
            "21/21 [==============================] - 5s 249ms/step - loss: 5.6982e-04 - val_loss: 6.2260e-04\n",
            "Epoch 40/60\n",
            "21/21 [==============================] - 4s 197ms/step - loss: 5.1617e-04 - val_loss: 6.1137e-04\n",
            "Epoch 41/60\n",
            "21/21 [==============================] - 4s 196ms/step - loss: 5.1816e-04 - val_loss: 6.1262e-04\n",
            "Epoch 42/60\n",
            "21/21 [==============================] - 5s 257ms/step - loss: 6.0950e-04 - val_loss: 6.6186e-04\n",
            "Epoch 43/60\n",
            "21/21 [==============================] - 4s 199ms/step - loss: 5.4483e-04 - val_loss: 5.9291e-04\n",
            "Epoch 44/60\n",
            "21/21 [==============================] - 4s 195ms/step - loss: 4.9341e-04 - val_loss: 5.6892e-04\n",
            "Epoch 45/60\n",
            "21/21 [==============================] - 5s 261ms/step - loss: 4.8194e-04 - val_loss: 5.7577e-04\n",
            "Epoch 46/60\n",
            "21/21 [==============================] - 4s 197ms/step - loss: 4.6616e-04 - val_loss: 8.9236e-04\n",
            "Epoch 47/60\n",
            "21/21 [==============================] - 4s 197ms/step - loss: 0.0011 - val_loss: 0.0010\n",
            "Epoch 48/60\n",
            "21/21 [==============================] - 5s 259ms/step - loss: 6.2507e-04 - val_loss: 5.3805e-04\n",
            "Epoch 49/60\n",
            "21/21 [==============================] - 4s 198ms/step - loss: 4.8881e-04 - val_loss: 5.3058e-04\n",
            "Epoch 50/60\n",
            "21/21 [==============================] - 4s 210ms/step - loss: 4.4812e-04 - val_loss: 5.1167e-04\n",
            "Epoch 51/60\n",
            "21/21 [==============================] - 5s 239ms/step - loss: 4.5147e-04 - val_loss: 4.9454e-04\n",
            "Epoch 52/60\n",
            "21/21 [==============================] - 4s 198ms/step - loss: 4.4204e-04 - val_loss: 4.9251e-04\n",
            "Epoch 53/60\n",
            "21/21 [==============================] - 5s 231ms/step - loss: 4.3057e-04 - val_loss: 5.3768e-04\n",
            "Epoch 54/60\n",
            "21/21 [==============================] - 5s 217ms/step - loss: 4.6583e-04 - val_loss: 4.6863e-04\n",
            "Epoch 55/60\n",
            "21/21 [==============================] - 4s 198ms/step - loss: 4.1446e-04 - val_loss: 4.6084e-04\n",
            "Epoch 56/60\n",
            "21/21 [==============================] - 5s 259ms/step - loss: 4.0582e-04 - val_loss: 5.1230e-04\n",
            "Epoch 57/60\n",
            "21/21 [==============================] - 4s 197ms/step - loss: 4.8989e-04 - val_loss: 6.3026e-04\n",
            "Epoch 58/60\n",
            "21/21 [==============================] - 4s 198ms/step - loss: 5.6972e-04 - val_loss: 5.5329e-04\n",
            "Epoch 59/60\n",
            "21/21 [==============================] - 5s 259ms/step - loss: 4.2938e-04 - val_loss: 6.5656e-04\n",
            "Epoch 60/60\n",
            "21/21 [==============================] - 4s 197ms/step - loss: 4.9831e-04 - val_loss: 4.1529e-04\n"
          ]
        },
        {
          "output_type": "execute_result",
          "data": {
            "text/plain": [
              "<keras.callbacks.History at 0x7fbe13145760>"
            ]
          },
          "metadata": {},
          "execution_count": 170
        }
      ]
    },
    {
      "cell_type": "code",
      "source": [
        "predictions = model.predict(X_test)"
      ],
      "metadata": {
        "colab": {
          "base_uri": "https://localhost:8080/"
        },
        "id": "2VZrjqPsYFd8",
        "outputId": "29c91730-84ee-4170-f53f-623d64111282"
      },
      "execution_count": null,
      "outputs": [
        {
          "output_type": "stream",
          "name": "stdout",
          "text": [
            "13/13 [==============================] - 2s 44ms/step\n"
          ]
        }
      ]
    },
    {
      "cell_type": "markdown",
      "source": [
        "#5) Checking the accuracy for the predicted with respect to actual stock price"
      ],
      "metadata": {
        "id": "s6u-G1pevNaP"
      }
    },
    {
      "cell_type": "code",
      "source": [
        "plt.plot(ytest)\n",
        "plt.plot(predictions)\n",
        "plt.show()"
      ],
      "metadata": {
        "colab": {
          "base_uri": "https://localhost:8080/",
          "height": 430
        },
        "id": "9YSlG2VCf7Gq",
        "outputId": "9394c051-ed84-416c-c6a8-408a630b5e0e"
      },
      "execution_count": null,
      "outputs": [
        {
          "output_type": "display_data",
          "data": {
            "text/plain": [
              "<Figure size 640x480 with 1 Axes>"
            ],
            "image/png": "[encoded data removed]"
          },
          "metadata": {}
        }
      ]
    }
  ]
}